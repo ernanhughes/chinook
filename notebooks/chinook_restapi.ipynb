{
 "cells": [
  {
   "cell_type": "markdown",
   "metadata": {},
   "source": [
    "## TOC:\n",
    "* [Install dependencies and setup](#setup)\n",
    "* [Test Case 1: GET all items for each endpoint](#test-case-1)\n",
    "* [Test Case 2: GET an item by its id](#test-case-2)\n",
    "* [Test Case 3: PUT data to an endpoint](#test-case-3)\n",
    "* [Test Case 3.1: PUT data to items with key: \"name\"](#test-case-3-1)\n",
    "* [Test Case 3.2: PUT data to the other items](#test-case-3-2)\n",
    "* [Test Case 4: POST and DELETE items.](#test-case-4)"
   ]
  },
  {
   "cell_type": "markdown",
   "metadata": {},
   "source": [
    "Install dependencies and setup. <a class=\"anchor\" id=\"setup\"></a>"
   ]
  },
  {
   "cell_type": "code",
   "execution_count": 91,
   "metadata": {},
   "outputs": [
    {
     "data": {
      "text/html": [
       "<style>\n",
       "    .output {\n",
       "        overflow: hidden;\n",
       "    }\n",
       "</style\n"
      ],
      "text/plain": [
       "<IPython.core.display.HTML object>"
      ]
     },
     "metadata": {},
     "output_type": "display_data"
    }
   ],
   "source": [
    "\n",
    "%%html\n",
    "<style>\n",
    "    .output {\n",
    "        overflow: hidden;\n",
    "    }\n",
    "</style"
   ]
  },
  {
   "cell_type": "code",
   "execution_count": null,
   "metadata": {},
   "outputs": [
    {
     "name": "stdout",
     "output_type": "stream",
     "text": [
      "Requirement already satisfied: requests in a:\\projects\\chinook\\venv\\lib\\site-packages (2.31.0)\n",
      "Requirement already satisfied: charset-normalizer<4,>=2 in a:\\projects\\chinook\\venv\\lib\\site-packages (from requests) (3.2.0)\n",
      "Requirement already satisfied: idna<4,>=2.5 in a:\\projects\\chinook\\venv\\lib\\site-packages (from requests) (3.4)\n",
      "Requirement already satisfied: urllib3<3,>=1.21.1 in a:\\projects\\chinook\\venv\\lib\\site-packages (from requests) (2.0.4)\n",
      "Requirement already satisfied: certifi>=2017.4.17 in a:\\projects\\chinook\\venv\\lib\\site-packages (from requests) (2023.7.22)\n",
      "Requirement already satisfied: python_dotenv in a:\\projects\\chinook\\venv\\lib\\site-packages (1.0.0)\n"
     ]
    }
   ],
   "source": [
    "!pip install requests\n",
    "!pip install python_dotenv"
   ]
  },
  {
   "cell_type": "code",
   "execution_count": 92,
   "metadata": {},
   "outputs": [
    {
     "name": "stdout",
     "output_type": "stream",
     "text": [
      ".env file  path: a:\\projects\\chinook\\notebooks\\..\\.env\n",
      "Port: 8001\n"
     ]
    }
   ],
   "source": [
    "import requests\n",
    "import os\n",
    "from dotenv import load_dotenv\n",
    "\n",
    "file_path = os.path.abspath('')\n",
    "dotenv_path=os.path.join(file_path, '..', '.env')\n",
    "print(f'.env file  path: {dotenv_path}')\n",
    "load_dotenv(dotenv_path)\n",
    "PORT = os.getenv('port')\n",
    "DATABASE_URL = os.getenv('DATABASE_URL')\n",
    "print(f'Port: {PORT}')"
   ]
  },
  {
   "cell_type": "markdown",
   "metadata": {},
   "source": [
    "## Test Case 1: GET all items for each endpoint <a class=\"anchor\" id=\"test-case-1\"></a>\n",
    "Iterate over all the \"all\" endpoints and print the results, expect to see success and items here"
   ]
  },
  {
   "cell_type": "code",
   "execution_count": 93,
   "metadata": {},
   "outputs": [
    {
     "name": "stdout",
     "output_type": "stream",
     "text": [
      "http://127.0.0.1:8001/api/v1/albums/\n",
      "Success: {'id': 2, 'title': 'Balls to the Wall', 'artist': None, 'artist_id': 2}\n",
      "http://127.0.0.1:8001/api/v1/tracks/\n",
      "Success: {'id': 2, 'name': 'Balls to the Wall', 'album_id': 2, 'media_type_id': 2, 'genre_id': 1, 'composer': None, 'milliseconds': 342562, 'bytes': 5510424, 'unit_price': 0.99, 'playlistTrack': None}\n",
      "http://127.0.0.1:8001/api/v1/playlists/\n",
      "Success: {'id': 2, 'name': 'Movies', 'playlistTrack': None}\n",
      "http://127.0.0.1:8001/api/v1/genres/\n",
      "Success: {'id': 2, 'name': 'Jazz'}\n",
      "http://127.0.0.1:8001/api/v1/mediatypes/\n",
      "Success: {'id': 2, 'name': 'Protected AAC audio file'}\n",
      "http://127.0.0.1:8001/api/v1/artists/\n",
      "Success: {'id': 2, 'name': 'Accept', 'album': None}\n",
      "http://127.0.0.1:8001/api/v1/customers/\n",
      "Success: {'id': 2, 'first_name': 'Leonie', 'last_name': 'Köhler', 'company': None, 'address': 'Theodor-Heuss-Straße 34', 'city': 'Stuttgart', 'state': None, 'country': 'Germany', 'postal_code': '70174', 'phone': '+49 0711 2842222', 'fax': None, 'email': 'leonekohler@surfeu.de', 'support_rep_id': 5, 'invoice': None}\n",
      "http://127.0.0.1:8001/api/v1/employees/\n",
      "Success: {'id': 2, 'last_name': 'Edwards', 'first_name': 'Nancy', 'title': 'Sales Manager', 'reports_to_id': 1, 'birth_date': '1958-12-08T00:00:00Z', 'hire_date': '2002-05-01T00:00:00Z', 'address': '825 8 Ave SW', 'city': 'Calgary', 'state': 'AB', 'country': 'Canada', 'postal_code': 'T2P 2T3', 'phone': '+1 (403) 262-3443', 'fax': '+1 (403) 262-3322', 'email': 'nancy@chinookcorp.com'}\n",
      "http://127.0.0.1:8001/api/v1/invoices/\n",
      "Success: {'id': 2, 'customer': None, 'customer_id': 4, 'invoice_date': '2009-01-02T00:00:00Z', 'billing_address': 'Ullevålsveien 14', 'billing_city': 'Oslo', 'billing_state': None, 'billing_country': 'Norway', 'billing_postal_code': '0171', 'total': 3.96, 'invoiceItem': None}\n",
      "http://127.0.0.1:8001/api/v1/invoiceitems/\n",
      "Success: {'id': 2, 'invoice': None, 'invoice_id': 1, 'track_id': 4, 'unit_price': 0.99, 'quantity': 1}\n",
      "http://127.0.0.1:8001/api/v1/playlisttracks/\n",
      "Success: {'id': 69722, 'playlist': None, 'playlist_id': 1, 'track': None, 'track_id': 3389}\n"
     ]
    }
   ],
   "source": [
    "# Define the API endpoint and parameters\n",
    "endpoints = ['albums', 'tracks', 'playlists', 'genres', 'mediatypes', \n",
    "             'artists', 'customers', 'employees', 'invoices', 'invoiceitems', \n",
    "             'playlisttracks']\n",
    "for endpoint in endpoints:\n",
    "    url = f'http://127.0.0.1:{PORT}/api/v1/{endpoint}/'\n",
    "    print(url)\n",
    "    # Make the GET request\n",
    "    response = requests.get(url)\n",
    "\n",
    "    # Check if the request was successful\n",
    "    if response.status_code == 200:\n",
    "        print(\"Success:\", response.json()[0])\n",
    "    else:\n",
    "        print(\"Failed:\", response.status_code)"
   ]
  },
  {
   "cell_type": "markdown",
   "metadata": {},
   "source": [
    "## Test Case 2: GET an item by its id. <a class=\"anchor\" id=\"test-case-2\"></a>\n",
    "select the first item so id = 1. \n",
    "expect to see success and some items here"
   ]
  },
  {
   "cell_type": "code",
   "execution_count": 94,
   "metadata": {},
   "outputs": [
    {
     "name": "stdout",
     "output_type": "stream",
     "text": [
      "http://127.0.0.1:8001/api/v1/albums/1\n",
      "Success: {'id': 1, 'title': 'For Those About To Rock We Salute You', 'artist': None, 'artist_id': 1}\n",
      "http://127.0.0.1:8001/api/v1/tracks/1\n",
      "Success: {'id': 1, 'name': 'For Those About To Rock (We Salute You)', 'album_id': 1, 'media_type_id': 1, 'genre_id': 1, 'composer': 'Angus Young, Malcolm Young, Brian Johnson', 'milliseconds': 343719, 'bytes': 11170334, 'unit_price': 0.99, 'playlistTrack': None}\n",
      "http://127.0.0.1:8001/api/v1/playlists/1\n",
      "Success: {'id': 1, 'name': 'Music', 'playlistTrack': None}\n",
      "http://127.0.0.1:8001/api/v1/genres/1\n",
      "Success: {'id': 1, 'name': 'Rock'}\n",
      "http://127.0.0.1:8001/api/v1/mediatypes/1\n",
      "Success: {'id': 1, 'name': 'MPEG audio file'}\n",
      "http://127.0.0.1:8001/api/v1/artists/1\n",
      "Success: {'id': 1, 'name': 'AC/DC', 'album': None}\n",
      "http://127.0.0.1:8001/api/v1/customers/1\n",
      "Success: {'id': 1, 'first_name': 'Luís', 'last_name': 'Gonçalves', 'company': 'Embraer - Empresa Brasileira de Aeronáutica S.A.', 'address': 'Av. Brigadeiro Faria Lima, 2170', 'city': 'São José dos Campos', 'state': 'SP', 'country': 'Brazil', 'postal_code': '12227-000', 'phone': '+55 (12) 3923-5555', 'fax': '+55 (12) 3923-5566', 'email': 'luisg@embraer.com.br', 'support_rep_id': 3, 'invoice': None}\n",
      "http://127.0.0.1:8001/api/v1/employees/1\n",
      "Success: {'id': 1, 'last_name': 'Adams', 'first_name': 'Andrew', 'title': 'General Manager', 'reports_to_id': None, 'birth_date': '1962-02-18T00:00:00Z', 'hire_date': '2002-08-14T00:00:00Z', 'address': '11120 Jasper Ave NW', 'city': 'Edmonton', 'state': 'AB', 'country': 'Canada', 'postal_code': 'T5K 2N1', 'phone': '+1 (780) 428-9482', 'fax': '+1 (780) 428-3457', 'email': 'andrew@chinookcorp.com'}\n",
      "http://127.0.0.1:8001/api/v1/invoices/1\n",
      "Success: {'id': 1, 'customer': None, 'customer_id': 2, 'invoice_date': '2009-01-01T00:00:00Z', 'billing_address': 'Theodor-Heuss-Straße 34', 'billing_city': 'Stuttgart', 'billing_state': None, 'billing_country': 'Germany', 'billing_postal_code': '70174', 'total': 1.98, 'invoiceItem': None}\n",
      "http://127.0.0.1:8001/api/v1/invoiceitems/1\n",
      "Success: {'id': 1, 'invoice': None, 'invoice_id': 1, 'track_id': 2, 'unit_price': 0.99, 'quantity': 1}\n",
      "http://127.0.0.1:8001/api/v1/playlisttracks/1\n",
      "Success: None\n",
      "http://127.0.0.1:8001/api/v1/playlisttracks/61006\n",
      "playlisttracks Success: None\n"
     ]
    }
   ],
   "source": [
    "for endpoint in endpoints:\n",
    "    url = f'http://127.0.0.1:{PORT}/api/v1/{endpoint}/1'\n",
    "    print(url)\n",
    "    # Make the GET request\n",
    "    response = requests.get(url)\n",
    "\n",
    "    # Check if the request was successful\n",
    "    if response.status_code == 200:\n",
    "        print(\"Success:\", response.json())\n",
    "    else:\n",
    "        print(\"Failed:\", response.status_code)\n",
    "\n",
    "# playlisttracks has none for 1 so get one it has\n",
    "url = f'http://127.0.0.1:{PORT}/api/v1/playlisttracks/61006'\n",
    "print(url)\n",
    "response = requests.get(url)\n",
    "if response.status_code == 200:\n",
    "    print(\"playlisttracks Success:\", response.json())\n",
    "else:\n",
    "    print(\"playlisttracks Failed:\", response.status_code)"
   ]
  },
  {
   "cell_type": "markdown",
   "metadata": {},
   "source": [
    "## Test Case 3: PUT data to an endpoint <a class=\"anchor\" id=\"test-case-3\"></a>\n",
    "select the first item in the list of all items so id: 1. \n",
    "store that value\n",
    "then put some new data to the endpoint (using name for example).\n",
    "then select that same item again and compare the updated values to see if they have been updated.\n",
    "then revert the data to the original values and check again."
   ]
  },
  {
   "cell_type": "markdown",
   "metadata": {},
   "source": [
    "## Test Case 3.1: PUT data to items with key: \"name\"  <a class=\"anchor\" id=\"test-case-3-1\"></a>\n",
    "for 'tracks', 'playlists', 'genres', 'mediatypes', 'artists', 'playlists'\n",
    "update and reset the name field."
   ]
  },
  {
   "cell_type": "code",
   "execution_count": 95,
   "metadata": {},
   "outputs": [],
   "source": [
    "def check_update_key(endpoint, key, value):\n",
    "    print(f'check_update_key: {endpoint} {key} {value}')\n",
    "    # Make the GET request\n",
    "    data = requests.get(endpoint).json()\n",
    "    original_val = data[key]\n",
    "    data[key] = value\n",
    "    # Make the PUT request with the updated value\n",
    "    response = requests.put(endpoint, json=data)\n",
    "    #print(f'Response from put: {response.json()}')\n",
    "    updated_data = requests.get(endpoint).json()\n",
    "    if updated_data[key] == value:\n",
    "        print(f'Success: we updated the [{key} -> {updated_data[key]}] json: {updated_data}')\n",
    "    else:\n",
    "        print(\"Failed:\", response.status_code)\n",
    "    # Reset the value\n",
    "    updated_data[key] = original_val\n",
    "    response = requests.put(endpoint, json=updated_data)\n",
    "    #print(f'Response from put: {response.json()}')\n",
    "    reset_data = requests.get(endpoint).json()\n",
    "    if original_val == reset_data[key]:\n",
    "        print(f'Success: we reset the [{key} -> {reset_data[key]}] json: {reset_data}')\n",
    "    else:\n",
    "        print(\"Failed:\", response.status_code)\n"
   ]
  },
  {
   "cell_type": "code",
   "execution_count": 96,
   "metadata": {},
   "outputs": [
    {
     "name": "stdout",
     "output_type": "stream",
     "text": [
      "check_update_key: http://127.0.0.1:8001/api/v1/tracks/1 name test_00001\n",
      "Success: we updated the [name -> test_00001] json: {'id': 1, 'name': 'test_00001', 'album_id': 1, 'media_type_id': 1, 'genre_id': 1, 'composer': 'Angus Young, Malcolm Young, Brian Johnson', 'milliseconds': 343719, 'bytes': 11170334, 'unit_price': 0.99, 'playlistTrack': None}\n",
      "Success: we reset the [name -> For Those About To Rock (We Salute You)] json: {'id': 1, 'name': 'For Those About To Rock (We Salute You)', 'album_id': 1, 'media_type_id': 1, 'genre_id': 1, 'composer': 'Angus Young, Malcolm Young, Brian Johnson', 'milliseconds': 343719, 'bytes': 11170334, 'unit_price': 0.99, 'playlistTrack': None}\n",
      "check_update_key: http://127.0.0.1:8001/api/v1/playlists/1 name test_00001\n",
      "Success: we updated the [name -> test_00001] json: {'id': 1, 'name': 'test_00001', 'playlistTrack': None}\n",
      "Success: we reset the [name -> Music] json: {'id': 1, 'name': 'Music', 'playlistTrack': None}\n",
      "check_update_key: http://127.0.0.1:8001/api/v1/genres/1 name test_00001\n",
      "Success: we updated the [name -> test_00001] json: {'id': 1, 'name': 'test_00001'}\n",
      "Success: we reset the [name -> Rock] json: {'id': 1, 'name': 'Rock'}\n",
      "check_update_key: http://127.0.0.1:8001/api/v1/mediatypes/1 name test_00001\n",
      "Success: we updated the [name -> test_00001] json: {'id': 1, 'name': 'test_00001'}\n",
      "Success: we reset the [name -> MPEG audio file] json: {'id': 1, 'name': 'MPEG audio file'}\n",
      "check_update_key: http://127.0.0.1:8001/api/v1/artists/1 name test_00001\n",
      "Success: we updated the [name -> test_00001] json: {'id': 1, 'name': 'test_00001', 'album': None}\n",
      "Success: we reset the [name -> AC/DC] json: {'id': 1, 'name': 'AC/DC', 'album': None}\n",
      "check_update_key: http://127.0.0.1:8001/api/v1/playlists/1 name test_00001\n",
      "Success: we updated the [name -> test_00001] json: {'id': 1, 'name': 'test_00001', 'playlistTrack': None}\n",
      "Success: we reset the [name -> Music] json: {'id': 1, 'name': 'Music', 'playlistTrack': None}\n"
     ]
    }
   ],
   "source": [
    "# these items all have \"name\" fields so it makes it easy to test as a group\n",
    "# ideally we would test each json key for update\n",
    "withnames = ['tracks', 'playlists', 'genres', 'mediatypes', 'artists', 'playlists']\n",
    "for endpoint in withnames:\n",
    "    endpoint = f'http://127.0.0.1:{PORT}/api/v1/{endpoint}/1'\n",
    "    check_update_key(endpoint, 'name', 'test_00001')"
   ]
  },
  {
   "cell_type": "markdown",
   "metadata": {},
   "source": [
    "## Test Case 3.2: PUT data to the other items <a class=\"anchor\" id=\"test-case-3-2\"></a>\n",
    "for 'album' update and reset the title field.\n",
    "for customer and employees update and reset the firstname field\n",
    "for invoices update and reset the total field\n",
    "for invoice_items update and reset the quantity field"
   ]
  },
  {
   "cell_type": "code",
   "execution_count": 97,
   "metadata": {},
   "outputs": [
    {
     "name": "stdout",
     "output_type": "stream",
     "text": [
      "check_update_key: http://127.0.0.1:8001/api/v1/albums/1 title test_00001\n",
      "Success: we updated the [title -> test_00001] json: {'id': 1, 'title': 'test_00001', 'artist': None, 'artist_id': 1}\n",
      "Success: we reset the [title -> For Those About To Rock We Salute You] json: {'id': 1, 'title': 'For Those About To Rock We Salute You', 'artist': None, 'artist_id': 1}\n",
      "check_update_key: http://127.0.0.1:8001/api/v1/customers/1 first_name test_00001\n",
      "Success: we updated the [first_name -> test_00001] json: {'id': 1, 'first_name': 'test_00001', 'last_name': 'Gonçalves', 'company': 'Embraer - Empresa Brasileira de Aeronáutica S.A.', 'address': 'Av. Brigadeiro Faria Lima, 2170', 'city': 'São José dos Campos', 'state': 'SP', 'country': 'Brazil', 'postal_code': '12227-000', 'phone': '+55 (12) 3923-5555', 'fax': '+55 (12) 3923-5566', 'email': 'luisg@embraer.com.br', 'support_rep_id': 3, 'invoice': None}\n",
      "Success: we reset the [first_name -> Luís] json: {'id': 1, 'first_name': 'Luís', 'last_name': 'Gonçalves', 'company': 'Embraer - Empresa Brasileira de Aeronáutica S.A.', 'address': 'Av. Brigadeiro Faria Lima, 2170', 'city': 'São José dos Campos', 'state': 'SP', 'country': 'Brazil', 'postal_code': '12227-000', 'phone': '+55 (12) 3923-5555', 'fax': '+55 (12) 3923-5566', 'email': 'luisg@embraer.com.br', 'support_rep_id': 3, 'invoice': None}\n",
      "check_update_key: http://127.0.0.1:8001/api/v1/employees/1 first_name test_00001\n",
      "Success: we updated the [first_name -> test_00001] json: {'id': 1, 'last_name': 'Adams', 'first_name': 'test_00001', 'title': 'General Manager', 'reports_to_id': None, 'birth_date': '1962-02-18T00:00:00Z', 'hire_date': '2002-08-14T00:00:00Z', 'address': '11120 Jasper Ave NW', 'city': 'Edmonton', 'state': 'AB', 'country': 'Canada', 'postal_code': 'T5K 2N1', 'phone': '+1 (780) 428-9482', 'fax': '+1 (780) 428-3457', 'email': 'andrew@chinookcorp.com'}\n",
      "Success: we reset the [first_name -> Andrew] json: {'id': 1, 'last_name': 'Adams', 'first_name': 'Andrew', 'title': 'General Manager', 'reports_to_id': None, 'birth_date': '1962-02-18T00:00:00Z', 'hire_date': '2002-08-14T00:00:00Z', 'address': '11120 Jasper Ave NW', 'city': 'Edmonton', 'state': 'AB', 'country': 'Canada', 'postal_code': 'T5K 2N1', 'phone': '+1 (780) 428-9482', 'fax': '+1 (780) 428-3457', 'email': 'andrew@chinookcorp.com'}\n",
      "check_update_key: http://127.0.0.1:8001/api/v1/invoices/1 total 999999.99\n",
      "Success: we updated the [total -> 999999.99] json: {'id': 1, 'customer': None, 'customer_id': 2, 'invoice_date': '2009-01-01T00:00:00Z', 'billing_address': 'Theodor-Heuss-Straße 34', 'billing_city': 'Stuttgart', 'billing_state': None, 'billing_country': 'Germany', 'billing_postal_code': '70174', 'total': 999999.99, 'invoiceItem': None}\n",
      "Success: we reset the [total -> 1.98] json: {'id': 1, 'customer': None, 'customer_id': 2, 'invoice_date': '2009-01-01T00:00:00Z', 'billing_address': 'Theodor-Heuss-Straße 34', 'billing_city': 'Stuttgart', 'billing_state': None, 'billing_country': 'Germany', 'billing_postal_code': '70174', 'total': 1.98, 'invoiceItem': None}\n",
      "check_update_key: http://127.0.0.1:8001/api/v1/invoiceitems/1 quantity 9999\n",
      "Success: we updated the [quantity -> 9999] json: {'id': 1, 'invoice': None, 'invoice_id': 1, 'track_id': 2, 'unit_price': 0.99, 'quantity': 9999}\n",
      "Success: we reset the [quantity -> 1] json: {'id': 1, 'invoice': None, 'invoice_id': 1, 'track_id': 2, 'unit_price': 0.99, 'quantity': 1}\n",
      "check_update_key: http://127.0.0.1:8001/api/v1/playlisttracks/69721 track_id 3389\n",
      "Success: we updated the [track_id -> 3389] json: {'id': 69721, 'playlist': None, 'playlist_id': 1, 'track': None, 'track_id': 3389}\n",
      "Success: we reset the [track_id -> 3402] json: {'id': 69721, 'playlist': None, 'playlist_id': 1, 'track': None, 'track_id': 3402}\n"
     ]
    }
   ],
   "source": [
    "albums_endpoint = f'http://127.0.0.1:{PORT}/api/v1/albums/1'\n",
    "check_update_key(albums_endpoint, 'title', 'test_00001')\n",
    "\n",
    "customers_endpoint = f'http://127.0.0.1:{PORT}/api/v1/customers/1'\n",
    "check_update_key(customers_endpoint, 'first_name', 'test_00001')\n",
    "\n",
    "employees_endpoint = f'http://127.0.0.1:{PORT}/api/v1/employees/1'\n",
    "check_update_key(employees_endpoint, 'first_name', 'test_00001')\n",
    "\n",
    "invoices_endpoint = f'http://127.0.0.1:{PORT}/api/v1/invoices/1'\n",
    "check_update_key(invoices_endpoint, 'total', 999999.99)\n",
    "\n",
    "invoiceitems_endpoint = f'http://127.0.0.1:{PORT}/api/v1/invoiceitems/1'\n",
    "check_update_key(invoiceitems_endpoint, 'quantity', 9999)\n",
    "\n",
    "# here I need to select a track that exixts and update it with a track id that also exists\n",
    "playlisttracks_endpoint = f'http://127.0.0.1:{PORT}/api/v1/playlisttracks/69721'\n",
    "check_update_key(playlisttracks_endpoint, 'track_id', 3389)\n"
   ]
  },
  {
   "cell_type": "markdown",
   "metadata": {},
   "source": [
    "## Test Case 4: POST and DELETE items. <a class=\"anchor\" id=\"test-case-4\"></a>\n",
    "Post and delete on each endpoint.\n",
    "Here we tak the first item return form the all enpoint and strip its id.\n",
    "I then post that item to the end point. \n",
    "I then check and store the returned id.\n",
    "Using that id I then delete that item from the endpoint.\n"
   ]
  },
  {
   "cell_type": "code",
   "execution_count": 98,
   "metadata": {},
   "outputs": [],
   "source": [
    "def post_and_delete(endpoint):\n",
    "    print(f'post_and_delete: {endpoint}')\n",
    "    # Make the GET request\n",
    "    data = requests.get(endpoint).json()[1]\n",
    "    del data[\"id\"] # remove the id field we will be posting this\n",
    "    print(f'First item data in list: {data}')\n",
    "    response = requests.post(endpoint, json=data)\n",
    "    print(f'Response from post: {response.status_code} {response.json()}')\n",
    "    if response.status_code == 200:\n",
    "        print(f'Success: we posted data [{data} -> {response}')\n",
    "    else:\n",
    "        print(\"Failed:\", response.status_code)\n",
    "    id = response.json()['id']\n",
    "    delete_endpoint = f'{endpoint}{id}'\n",
    "    print(f'Delete endpoint: {delete_endpoint}')\n",
    "    response = requests.delete(delete_endpoint)\n",
    "    print(f'Response from delete: {response.status_code} {response.json()}')\n",
    "    if response.status_code == 200:\n",
    "        print(f'Success: we delted data [{data} -> {response}')\n",
    "    else:\n",
    "        print(\"Failed:\", response.status_code)\n"
   ]
  },
  {
   "cell_type": "code",
   "execution_count": 99,
   "metadata": {},
   "outputs": [
    {
     "name": "stdout",
     "output_type": "stream",
     "text": [
      "post_and_delete: http://127.0.0.1:8001/api/v1/albums/\n",
      "First item data in list: {'title': 'Restless and Wild', 'artist': None, 'artist_id': 2}\n",
      "Response from post: 200 {'id': 357, 'title': 'Restless and Wild', 'artist': None, 'artist_id': 2}\n",
      "Success: we posted data [{'title': 'Restless and Wild', 'artist': None, 'artist_id': 2} -> <Response [200]>\n",
      "Delete endpoint: http://127.0.0.1:8001/api/v1/albums/357\n",
      "Response from delete: 200 {'id': 357, 'title': 'Restless and Wild', 'artist': None, 'artist_id': 2}\n",
      "Success: we delted data [{'title': 'Restless and Wild', 'artist': None, 'artist_id': 2} -> <Response [200]>\n",
      "post_and_delete: http://127.0.0.1:8001/api/v1/tracks/\n",
      "First item data in list: {'name': 'Fast As a Shark', 'album_id': 3, 'media_type_id': 2, 'genre_id': 1, 'composer': 'F. Baltes, S. Kaufman, U. Dirkscneider & W. Hoffman', 'milliseconds': 230619, 'bytes': 3990994, 'unit_price': 0.99, 'playlistTrack': None}\n",
      "Response from post: 200 {'id': 3509, 'name': 'Fast As a Shark', 'album_id': 3, 'media_type_id': 2, 'genre_id': 1, 'composer': 'F. Baltes, S. Kaufman, U. Dirkscneider & W. Hoffman', 'milliseconds': 230619, 'bytes': 3990994, 'unit_price': 0.99, 'playlistTrack': None}\n",
      "Success: we posted data [{'name': 'Fast As a Shark', 'album_id': 3, 'media_type_id': 2, 'genre_id': 1, 'composer': 'F. Baltes, S. Kaufman, U. Dirkscneider & W. Hoffman', 'milliseconds': 230619, 'bytes': 3990994, 'unit_price': 0.99, 'playlistTrack': None} -> <Response [200]>\n",
      "Delete endpoint: http://127.0.0.1:8001/api/v1/tracks/3509\n",
      "Response from delete: 200 {'id': 3509, 'name': 'Fast As a Shark', 'album_id': 3, 'media_type_id': 2, 'genre_id': 1, 'composer': 'F. Baltes, S. Kaufman, U. Dirkscneider & W. Hoffman', 'milliseconds': 230619, 'bytes': 3990994, 'unit_price': 0.99, 'playlistTrack': None}\n",
      "Success: we delted data [{'name': 'Fast As a Shark', 'album_id': 3, 'media_type_id': 2, 'genre_id': 1, 'composer': 'F. Baltes, S. Kaufman, U. Dirkscneider & W. Hoffman', 'milliseconds': 230619, 'bytes': 3990994, 'unit_price': 0.99, 'playlistTrack': None} -> <Response [200]>\n",
      "post_and_delete: http://127.0.0.1:8001/api/v1/playlists/\n",
      "First item data in list: {'name': 'TV Shows', 'playlistTrack': None}\n",
      "Response from post: 200 {'id': 24, 'name': 'TV Shows', 'playlistTrack': None}\n",
      "Success: we posted data [{'name': 'TV Shows', 'playlistTrack': None} -> <Response [200]>\n",
      "Delete endpoint: http://127.0.0.1:8001/api/v1/playlists/24\n",
      "Response from delete: 200 {'id': 24, 'name': 'TV Shows', 'playlistTrack': None}\n",
      "Success: we delted data [{'name': 'TV Shows', 'playlistTrack': None} -> <Response [200]>\n",
      "post_and_delete: http://127.0.0.1:8001/api/v1/genres/\n",
      "First item data in list: {'name': 'Metal'}\n",
      "Response from post: 200 {'id': 31, 'name': 'Metal'}\n",
      "Success: we posted data [{'name': 'Metal'} -> <Response [200]>\n",
      "Delete endpoint: http://127.0.0.1:8001/api/v1/genres/31\n",
      "Response from delete: 200 {'id': 31, 'name': 'Metal'}\n",
      "Success: we delted data [{'name': 'Metal'} -> <Response [200]>\n",
      "post_and_delete: http://127.0.0.1:8001/api/v1/mediatypes/\n",
      "First item data in list: {'name': 'Protected MPEG-4 video file'}\n",
      "Response from post: 200 {'id': 11, 'name': 'Protected MPEG-4 video file'}\n",
      "Success: we posted data [{'name': 'Protected MPEG-4 video file'} -> <Response [200]>\n",
      "Delete endpoint: http://127.0.0.1:8001/api/v1/mediatypes/11\n",
      "Response from delete: 200 {'id': 11, 'name': 'Protected MPEG-4 video file'}\n",
      "Success: we delted data [{'name': 'Protected MPEG-4 video file'} -> <Response [200]>\n",
      "post_and_delete: http://127.0.0.1:8001/api/v1/artists/\n",
      "First item data in list: {'name': 'Aerosmith', 'album': None}\n",
      "Response from post: 200 {'id': 281, 'name': 'Aerosmith', 'album': None}\n",
      "Success: we posted data [{'name': 'Aerosmith', 'album': None} -> <Response [200]>\n",
      "Delete endpoint: http://127.0.0.1:8001/api/v1/artists/281\n",
      "Response from delete: 200 {'id': 281, 'name': 'Aerosmith', 'album': None}\n",
      "Success: we delted data [{'name': 'Aerosmith', 'album': None} -> <Response [200]>\n",
      "post_and_delete: http://127.0.0.1:8001/api/v1/customers/\n",
      "First item data in list: {'first_name': 'François', 'last_name': 'Tremblay', 'company': None, 'address': '1498 rue Bélanger', 'city': 'Montréal', 'state': 'QC', 'country': 'Canada', 'postal_code': 'H2G 1A7', 'phone': '+1 (514) 721-4711', 'fax': None, 'email': 'ftremblay@gmail.com', 'support_rep_id': 3, 'invoice': None}\n",
      "Response from post: 200 {'id': 65, 'first_name': 'François', 'last_name': 'Tremblay', 'company': None, 'address': '1498 rue Bélanger', 'city': 'Montréal', 'state': 'QC', 'country': 'Canada', 'postal_code': 'H2G 1A7', 'phone': '+1 (514) 721-4711', 'fax': None, 'email': 'ftremblay@gmail.com', 'support_rep_id': 3, 'invoice': None}\n",
      "Success: we posted data [{'first_name': 'François', 'last_name': 'Tremblay', 'company': None, 'address': '1498 rue Bélanger', 'city': 'Montréal', 'state': 'QC', 'country': 'Canada', 'postal_code': 'H2G 1A7', 'phone': '+1 (514) 721-4711', 'fax': None, 'email': 'ftremblay@gmail.com', 'support_rep_id': 3, 'invoice': None} -> <Response [200]>\n",
      "Delete endpoint: http://127.0.0.1:8001/api/v1/customers/65\n",
      "Response from delete: 200 {'id': 65, 'first_name': 'François', 'last_name': 'Tremblay', 'company': None, 'address': '1498 rue Bélanger', 'city': 'Montréal', 'state': 'QC', 'country': 'Canada', 'postal_code': 'H2G 1A7', 'phone': '+1 (514) 721-4711', 'fax': None, 'email': 'ftremblay@gmail.com', 'support_rep_id': 3, 'invoice': None}\n",
      "Success: we delted data [{'first_name': 'François', 'last_name': 'Tremblay', 'company': None, 'address': '1498 rue Bélanger', 'city': 'Montréal', 'state': 'QC', 'country': 'Canada', 'postal_code': 'H2G 1A7', 'phone': '+1 (514) 721-4711', 'fax': None, 'email': 'ftremblay@gmail.com', 'support_rep_id': 3, 'invoice': None} -> <Response [200]>\n",
      "post_and_delete: http://127.0.0.1:8001/api/v1/employees/\n",
      "First item data in list: {'last_name': 'Peacock', 'first_name': 'Jane', 'title': 'Sales Support Agent', 'reports_to_id': 2, 'birth_date': '1973-08-29T00:00:00Z', 'hire_date': '2002-04-01T00:00:00Z', 'address': '1111 6 Ave SW', 'city': 'Calgary', 'state': 'AB', 'country': 'Canada', 'postal_code': 'T2P 5M5', 'phone': '+1 (403) 262-3443', 'fax': '+1 (403) 262-6712', 'email': 'jane@chinookcorp.com'}\n",
      "Response from post: 200 {'id': 14, 'last_name': 'Peacock', 'first_name': 'Jane', 'title': None, 'reports_to_id': 2, 'birth_date': '1973-08-29T00:00:00Z', 'hire_date': '2002-04-01T00:00:00Z', 'address': '1111 6 Ave SW', 'city': 'Calgary', 'state': 'AB', 'country': 'Canada', 'postal_code': 'T2P 5M5', 'phone': '+1 (403) 262-3443', 'fax': '+1 (403) 262-6712', 'email': 'jane@chinookcorp.com'}\n",
      "Success: we posted data [{'last_name': 'Peacock', 'first_name': 'Jane', 'title': 'Sales Support Agent', 'reports_to_id': 2, 'birth_date': '1973-08-29T00:00:00Z', 'hire_date': '2002-04-01T00:00:00Z', 'address': '1111 6 Ave SW', 'city': 'Calgary', 'state': 'AB', 'country': 'Canada', 'postal_code': 'T2P 5M5', 'phone': '+1 (403) 262-3443', 'fax': '+1 (403) 262-6712', 'email': 'jane@chinookcorp.com'} -> <Response [200]>\n",
      "Delete endpoint: http://127.0.0.1:8001/api/v1/employees/14\n",
      "Response from delete: 200 {'id': 14, 'last_name': 'Peacock', 'first_name': 'Jane', 'title': None, 'reports_to_id': 2, 'birth_date': '1973-08-29T00:00:00Z', 'hire_date': '2002-04-01T00:00:00Z', 'address': '1111 6 Ave SW', 'city': 'Calgary', 'state': 'AB', 'country': 'Canada', 'postal_code': 'T2P 5M5', 'phone': '+1 (403) 262-3443', 'fax': '+1 (403) 262-6712', 'email': 'jane@chinookcorp.com'}\n",
      "Success: we delted data [{'last_name': 'Peacock', 'first_name': 'Jane', 'title': 'Sales Support Agent', 'reports_to_id': 2, 'birth_date': '1973-08-29T00:00:00Z', 'hire_date': '2002-04-01T00:00:00Z', 'address': '1111 6 Ave SW', 'city': 'Calgary', 'state': 'AB', 'country': 'Canada', 'postal_code': 'T2P 5M5', 'phone': '+1 (403) 262-3443', 'fax': '+1 (403) 262-6712', 'email': 'jane@chinookcorp.com'} -> <Response [200]>\n",
      "post_and_delete: http://127.0.0.1:8001/api/v1/invoices/\n",
      "First item data in list: {'customer': None, 'customer_id': 8, 'invoice_date': '2009-01-03T00:00:00Z', 'billing_address': 'Grétrystraat 63', 'billing_city': 'Brussels', 'billing_state': None, 'billing_country': 'Belgium', 'billing_postal_code': '1000', 'total': 5.94, 'invoiceItem': None}\n",
      "Response from post: 200 {'id': 418, 'customer': None, 'customer_id': 8, 'invoice_date': '2009-01-03T00:00:00Z', 'billing_address': 'Grétrystraat 63', 'billing_city': 'Brussels', 'billing_state': None, 'billing_country': 'Belgium', 'billing_postal_code': '1000', 'total': 5.94, 'invoiceItem': None}\n",
      "Success: we posted data [{'customer': None, 'customer_id': 8, 'invoice_date': '2009-01-03T00:00:00Z', 'billing_address': 'Grétrystraat 63', 'billing_city': 'Brussels', 'billing_state': None, 'billing_country': 'Belgium', 'billing_postal_code': '1000', 'total': 5.94, 'invoiceItem': None} -> <Response [200]>\n",
      "Delete endpoint: http://127.0.0.1:8001/api/v1/invoices/418\n",
      "Response from delete: 200 {'id': 418, 'customer': None, 'customer_id': 8, 'invoice_date': '2009-01-03T00:00:00Z', 'billing_address': 'Grétrystraat 63', 'billing_city': 'Brussels', 'billing_state': None, 'billing_country': 'Belgium', 'billing_postal_code': '1000', 'total': 5.94, 'invoiceItem': None}\n",
      "Success: we delted data [{'customer': None, 'customer_id': 8, 'invoice_date': '2009-01-03T00:00:00Z', 'billing_address': 'Grétrystraat 63', 'billing_city': 'Brussels', 'billing_state': None, 'billing_country': 'Belgium', 'billing_postal_code': '1000', 'total': 5.94, 'invoiceItem': None} -> <Response [200]>\n",
      "post_and_delete: http://127.0.0.1:8001/api/v1/invoiceitems/\n",
      "First item data in list: {'invoice': None, 'invoice_id': 2, 'track_id': 6, 'unit_price': 0.99, 'quantity': 1}\n",
      "Response from post: 200 {'id': 2246, 'invoice': None, 'invoice_id': 2, 'track_id': 6, 'unit_price': 0.99, 'quantity': 1}\n",
      "Success: we posted data [{'invoice': None, 'invoice_id': 2, 'track_id': 6, 'unit_price': 0.99, 'quantity': 1} -> <Response [200]>\n",
      "Delete endpoint: http://127.0.0.1:8001/api/v1/invoiceitems/2246\n",
      "Response from delete: 200 {'id': 2246, 'invoice': None, 'invoice_id': 2, 'track_id': 6, 'unit_price': 0.99, 'quantity': 1}\n",
      "Success: we delted data [{'invoice': None, 'invoice_id': 2, 'track_id': 6, 'unit_price': 0.99, 'quantity': 1} -> <Response [200]>\n",
      "post_and_delete: http://127.0.0.1:8001/api/v1/playlisttracks/\n",
      "First item data in list: {'playlist': None, 'playlist_id': 1, 'track': None, 'track_id': 3390}\n",
      "Response from post: 200 {'id': 78441, 'playlist': None, 'playlist_id': 1, 'track': None, 'track_id': 3390}\n",
      "Success: we posted data [{'playlist': None, 'playlist_id': 1, 'track': None, 'track_id': 3390} -> <Response [200]>\n",
      "Delete endpoint: http://127.0.0.1:8001/api/v1/playlisttracks/78441\n",
      "Response from delete: 200 {'id': 78441, 'playlist': None, 'playlist_id': 1, 'track': None, 'track_id': 3390}\n",
      "Success: we delted data [{'playlist': None, 'playlist_id': 1, 'track': None, 'track_id': 3390} -> <Response [200]>\n"
     ]
    },
    {
     "ename": "",
     "evalue": "",
     "output_type": "error",
     "traceback": [
      "\u001b[1;31mThe Kernel crashed while executing code in the the current cell or a previous cell. Please review the code in the cell(s) to identify a possible cause of the failure. Click <a href='https://aka.ms/vscodeJupyterKernelCrash'>here</a> for more info. View Jupyter <a href='command:jupyter.viewOutput'>log</a> for further details."
     ]
    }
   ],
   "source": [
    "endpoints = ['albums', 'tracks', 'playlists', 'genres', 'mediatypes', \n",
    "             'artists', 'customers', 'employees', 'invoices', 'invoiceitems', \n",
    "             'playlisttracks']\n",
    "for endpoint in endpoints:\n",
    "    url = f'http://127.0.0.1:{PORT}/api/v1/{endpoint}/'\n",
    "    post_and_delete(url)\n"
   ]
  }
 ],
 "metadata": {
  "kernelspec": {
   "display_name": "venv",
   "language": "python",
   "name": "python3"
  },
  "language_info": {
   "codemirror_mode": {
    "name": "ipython",
    "version": 3
   },
   "file_extension": ".py",
   "mimetype": "text/x-python",
   "name": "python",
   "nbconvert_exporter": "python",
   "pygments_lexer": "ipython3",
   "version": "3.10.11"
  },
  "orig_nbformat": 4
 },
 "nbformat": 4,
 "nbformat_minor": 2
}
